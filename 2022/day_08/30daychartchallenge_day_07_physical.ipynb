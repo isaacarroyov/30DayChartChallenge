{
 "cells": [
  {
   "cell_type": "markdown",
   "metadata": {},
   "source": [
    "# Day 8: Mountains"
   ]
  },
  {
   "cell_type": "code",
   "execution_count": 1,
   "metadata": {},
   "outputs": [
    {
     "name": "stdout",
     "output_type": "stream",
     "text": [
      "Google Earth Engine Iniciado con éxito\n"
     ]
    }
   ],
   "source": [
    "import ee \n",
    "from IPython.display import Image\n",
    "ee.Initialize()\n",
    "print(\"Google Earth Engine Iniciado con éxito\")\n",
    "\n",
    "# Limit the image\n",
    "square = ee.Geometry.Rectangle([-99.0791076806227,20.18721305011987,\n",
    "                                -96.74397125750106,17.943340807556424])\n",
    "\n",
    "# Import data\n",
    "dataset = ee.Image('CGIAR/SRTM90_V4')\n",
    "\n",
    "# Extract elevation\n",
    "elevation = dataset.select('elevation')\n",
    "\n",
    "# Calculate slope\n",
    "slope = ee.Terrain.slope(elevation)\n",
    "\n",
    "# Visualization parameters for slope and elevation\n",
    "viz_params_elevation = {'min': 2000,\n",
    "                        'max': 5500,\n",
    "                        'palette': ['#3C0D03','#E67424', '#F5C34D'],\n",
    "                        'dimensions': 900}\n",
    "\n",
    "viz_params_slope = { 'min': 0,\n",
    "                    'max': 70,\n",
    "                    'palette': ['#192813','#669D62', '#E7E5CC'],\n",
    "                    'dimensions': 900}\n",
    "\n",
    "\n",
    "# Clip the image to square\n",
    "img_elevation = elevation.clip(square)\n",
    "img_slope = slope.clip(square)\n"
   ]
  },
  {
   "cell_type": "code",
   "execution_count": 2,
   "metadata": {},
   "outputs": [],
   "source": [
    "# Get the URL\n",
    "url_elevation = img_elevation.getThumbUrl(viz_params_elevation)\n",
    "url_slope = img_slope.getThumbUrl(viz_params_slope)"
   ]
  },
  {
   "cell_type": "code",
   "execution_count": 3,
   "metadata": {},
   "outputs": [
    {
     "data": {
      "text/html": [
       "<img src=\"https://earthengine.googleapis.com/v1alpha/projects/earthengine-legacy/thumbnails/1358eb6591f52d29fa006b08ec0cad9d-ac8bc6ec66256cacc95a77974b21e97e:getPixels\"/>"
      ],
      "text/plain": [
       "<IPython.core.display.Image object>"
      ]
     },
     "execution_count": 3,
     "metadata": {},
     "output_type": "execute_result"
    }
   ],
   "source": [
    "# Display a thumbnail of elevation in the region.\n",
    "Image(url=url_elevation)"
   ]
  },
  {
   "cell_type": "code",
   "execution_count": 4,
   "metadata": {},
   "outputs": [
    {
     "data": {
      "text/html": [
       "<img src=\"https://earthengine.googleapis.com/v1alpha/projects/earthengine-legacy/thumbnails/b21df7ce609fc85f3e73b77128eda79e-6dadde494b1540b211ee444db9a6a7d8:getPixels\"/>"
      ],
      "text/plain": [
       "<IPython.core.display.Image object>"
      ]
     },
     "execution_count": 4,
     "metadata": {},
     "output_type": "execute_result"
    }
   ],
   "source": [
    "# Display a thumbnail of slope in the region.\n",
    "Image(url=url_slope)"
   ]
  },
  {
   "cell_type": "code",
   "execution_count": null,
   "metadata": {},
   "outputs": [],
   "source": []
  }
 ],
 "metadata": {
  "interpreter": {
   "hash": "f0056ed066eb20b7c5fee1acc67642a88c489a5d16a4bad5563c329dcdcb175b"
  },
  "kernelspec": {
   "display_name": "Python 3 (ipykernel)",
   "language": "python",
   "name": "python3"
  },
  "language_info": {
   "codemirror_mode": {
    "name": "ipython",
    "version": 3
   },
   "file_extension": ".py",
   "mimetype": "text/x-python",
   "name": "python",
   "nbconvert_exporter": "python",
   "pygments_lexer": "ipython3",
   "version": "3.8.10"
  }
 },
 "nbformat": 4,
 "nbformat_minor": 4
}
