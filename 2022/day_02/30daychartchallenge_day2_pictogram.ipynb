{
 "cells": [
  {
   "cell_type": "markdown",
   "metadata": {},
   "source": [
    "# Day 2: Pictogram"
   ]
  },
  {
   "cell_type": "markdown",
   "metadata": {},
   "source": [
    "## Load libraries"
   ]
  },
  {
   "cell_type": "code",
   "execution_count": 1,
   "metadata": {},
   "outputs": [],
   "source": [
    "import numpy as np\n",
    "import pandas as pd\n",
    "import altair as alt\n",
    "import matplotlib.pyplot as plt \n",
    "import seaborn as sns"
   ]
  },
  {
   "cell_type": "markdown",
   "metadata": {},
   "source": [
    "## Load data"
   ]
  },
  {
   "cell_type": "code",
   "execution_count": 2,
   "metadata": {},
   "outputs": [],
   "source": [
    "def find_residente_calle13(artist):\n",
    "    condition_1 = artist == 'Calle 13'\n",
    "    condition_2 = artist == 'Residente'\n",
    "    if condition_1 or condition_2:\n",
    "        return 'Residente/Calle 13'\n",
    "    else: \n",
    "        return artist"
   ]
  },
  {
   "cell_type": "code",
   "execution_count": 3,
   "metadata": {},
   "outputs": [
    {
     "data": {
      "text/html": [
       "<div>\n",
       "<style scoped>\n",
       "    .dataframe tbody tr th:only-of-type {\n",
       "        vertical-align: middle;\n",
       "    }\n",
       "\n",
       "    .dataframe tbody tr th {\n",
       "        vertical-align: top;\n",
       "    }\n",
       "\n",
       "    .dataframe thead th {\n",
       "        text-align: right;\n",
       "    }\n",
       "</style>\n",
       "<table border=\"1\" class=\"dataframe\">\n",
       "  <thead>\n",
       "    <tr style=\"text-align: right;\">\n",
       "      <th></th>\n",
       "      <th>song_name</th>\n",
       "      <th>song_position</th>\n",
       "      <th>artist_name</th>\n",
       "      <th>playlist_year</th>\n",
       "      <th>danceability</th>\n",
       "      <th>valence</th>\n",
       "      <th>speechiness</th>\n",
       "    </tr>\n",
       "  </thead>\n",
       "  <tbody>\n",
       "    <tr>\n",
       "      <th>0</th>\n",
       "      <td>All In My Head (Flex) (feat. Fetty Wap)</td>\n",
       "      <td>1</td>\n",
       "      <td>Fifth Harmony</td>\n",
       "      <td>Top Songs 2016</td>\n",
       "      <td>0.689</td>\n",
       "      <td>0.755</td>\n",
       "      <td>0.0530</td>\n",
       "    </tr>\n",
       "    <tr>\n",
       "      <th>1</th>\n",
       "      <td>I Lied</td>\n",
       "      <td>2</td>\n",
       "      <td>Fifth Harmony</td>\n",
       "      <td>Top Songs 2016</td>\n",
       "      <td>0.674</td>\n",
       "      <td>0.492</td>\n",
       "      <td>0.1790</td>\n",
       "    </tr>\n",
       "    <tr>\n",
       "      <th>2</th>\n",
       "      <td>Boom!</td>\n",
       "      <td>3</td>\n",
       "      <td>Simple Plan</td>\n",
       "      <td>Top Songs 2016</td>\n",
       "      <td>0.457</td>\n",
       "      <td>0.300</td>\n",
       "      <td>0.1000</td>\n",
       "    </tr>\n",
       "    <tr>\n",
       "      <th>3</th>\n",
       "      <td>History</td>\n",
       "      <td>4</td>\n",
       "      <td>One Direction</td>\n",
       "      <td>Top Songs 2016</td>\n",
       "      <td>0.655</td>\n",
       "      <td>0.802</td>\n",
       "      <td>0.0493</td>\n",
       "    </tr>\n",
       "    <tr>\n",
       "      <th>4</th>\n",
       "      <td>Work from Home (feat. Ty Dolla $ign)</td>\n",
       "      <td>5</td>\n",
       "      <td>Fifth Harmony</td>\n",
       "      <td>Top Songs 2016</td>\n",
       "      <td>0.803</td>\n",
       "      <td>0.593</td>\n",
       "      <td>0.0432</td>\n",
       "    </tr>\n",
       "    <tr>\n",
       "      <th>...</th>\n",
       "      <td>...</td>\n",
       "      <td>...</td>\n",
       "      <td>...</td>\n",
       "      <td>...</td>\n",
       "      <td>...</td>\n",
       "      <td>...</td>\n",
       "      <td>...</td>\n",
       "    </tr>\n",
       "    <tr>\n",
       "      <th>595</th>\n",
       "      <td>Madness</td>\n",
       "      <td>96</td>\n",
       "      <td>Ruelle</td>\n",
       "      <td>Top Songs 2021</td>\n",
       "      <td>0.509</td>\n",
       "      <td>0.421</td>\n",
       "      <td>0.0433</td>\n",
       "    </tr>\n",
       "    <tr>\n",
       "      <th>596</th>\n",
       "      <td>Not Today</td>\n",
       "      <td>97</td>\n",
       "      <td>Alessia Cara</td>\n",
       "      <td>Top Songs 2021</td>\n",
       "      <td>0.760</td>\n",
       "      <td>0.169</td>\n",
       "      <td>0.1230</td>\n",
       "    </tr>\n",
       "    <tr>\n",
       "      <th>597</th>\n",
       "      <td>willow</td>\n",
       "      <td>98</td>\n",
       "      <td>Taylor Swift</td>\n",
       "      <td>Top Songs 2021</td>\n",
       "      <td>0.392</td>\n",
       "      <td>0.529</td>\n",
       "      <td>0.1700</td>\n",
       "    </tr>\n",
       "    <tr>\n",
       "      <th>598</th>\n",
       "      <td>Symphony No. 9 in D Minor, Op.125 'Choral': Od...</td>\n",
       "      <td>99</td>\n",
       "      <td>Ludwig van Beethoven</td>\n",
       "      <td>Top Songs 2021</td>\n",
       "      <td>0.190</td>\n",
       "      <td>0.219</td>\n",
       "      <td>0.0413</td>\n",
       "    </tr>\n",
       "    <tr>\n",
       "      <th>599</th>\n",
       "      <td>Wild Thing</td>\n",
       "      <td>100</td>\n",
       "      <td>Jasmine Cephas-Jones</td>\n",
       "      <td>Top Songs 2021</td>\n",
       "      <td>0.644</td>\n",
       "      <td>0.186</td>\n",
       "      <td>0.0460</td>\n",
       "    </tr>\n",
       "  </tbody>\n",
       "</table>\n",
       "<p>600 rows × 7 columns</p>\n",
       "</div>"
      ],
      "text/plain": [
       "                                             song_name  song_position  \\\n",
       "0              All In My Head (Flex) (feat. Fetty Wap)              1   \n",
       "1                                               I Lied              2   \n",
       "2                                                Boom!              3   \n",
       "3                                              History              4   \n",
       "4                 Work from Home (feat. Ty Dolla $ign)              5   \n",
       "..                                                 ...            ...   \n",
       "595                                            Madness             96   \n",
       "596                                          Not Today             97   \n",
       "597                                             willow             98   \n",
       "598  Symphony No. 9 in D Minor, Op.125 'Choral': Od...             99   \n",
       "599                                         Wild Thing            100   \n",
       "\n",
       "              artist_name   playlist_year  danceability  valence  speechiness  \n",
       "0           Fifth Harmony  Top Songs 2016         0.689    0.755       0.0530  \n",
       "1           Fifth Harmony  Top Songs 2016         0.674    0.492       0.1790  \n",
       "2             Simple Plan  Top Songs 2016         0.457    0.300       0.1000  \n",
       "3           One Direction  Top Songs 2016         0.655    0.802       0.0493  \n",
       "4           Fifth Harmony  Top Songs 2016         0.803    0.593       0.0432  \n",
       "..                    ...             ...           ...      ...          ...  \n",
       "595                Ruelle  Top Songs 2021         0.509    0.421       0.0433  \n",
       "596          Alessia Cara  Top Songs 2021         0.760    0.169       0.1230  \n",
       "597          Taylor Swift  Top Songs 2021         0.392    0.529       0.1700  \n",
       "598  Ludwig van Beethoven  Top Songs 2021         0.190    0.219       0.0413  \n",
       "599  Jasmine Cephas-Jones  Top Songs 2021         0.644    0.186       0.0460  \n",
       "\n",
       "[600 rows x 7 columns]"
      ]
     },
     "execution_count": 3,
     "metadata": {},
     "output_type": "execute_result"
    }
   ],
   "source": [
    "df = pd.read_csv('https://raw.githubusercontent.com/isaacarroyov/spotify_wrapped_five_years/main/data/songs_spotify_from_2016_to_2021.csv')\n",
    "df['artist_name'] = df['artist_name'].apply(find_residente_calle13)\n",
    "df"
   ]
  },
  {
   "cell_type": "markdown",
   "metadata": {},
   "source": [
    "## Extract relevant information"
   ]
  },
  {
   "cell_type": "code",
   "execution_count": 4,
   "metadata": {},
   "outputs": [],
   "source": [
    "top_5_artists = df.query(\"playlist_year == 'Top Songs 2020'\").groupby('artist_name').count()\\\n",
    "    .sort_values('song_name', ascending=False).head(5).reset_index()"
   ]
  },
  {
   "cell_type": "code",
   "execution_count": 5,
   "metadata": {},
   "outputs": [],
   "source": [
    "list_url_image = [\n",
    "    'https://raw.githubusercontent.com/isaacarroyov/30DayChartChallenge/main/2022/data_images/alessia_cara.png',\n",
    "    'https://raw.githubusercontent.com/isaacarroyov/30DayChartChallenge/main/2022/data_images/dua_lipa.png',\n",
    "    'https://raw.githubusercontent.com/isaacarroyov/30DayChartChallenge/main/2022/data_images/oreja_van_gogh.jpg',\n",
    "    'https://raw.githubusercontent.com/isaacarroyov/30DayChartChallenge/main/2022/data_images/5sos.png',\n",
    "    'https://raw.githubusercontent.com/isaacarroyov/30DayChartChallenge/main/2022/data_images/residente.jpg'\n",
    "    ]\n",
    "\n",
    "top_5_artists['img'] = list_url_image\n",
    "\n",
    "top_5_artists['song_position'] = top_5_artists['song_position'].apply(lambda x : str(x) + \" songs\" )"
   ]
  },
  {
   "cell_type": "markdown",
   "metadata": {},
   "source": [
    "## Create charts"
   ]
  },
  {
   "cell_type": "markdown",
   "metadata": {},
   "source": [
    "### Baseline"
   ]
  },
  {
   "cell_type": "code",
   "execution_count": 7,
   "metadata": {},
   "outputs": [],
   "source": [
    "base = alt.Chart(data=top_5_artists).encode(x= alt.X(shorthand='song_name:Q') ,\n",
    "                                            y= alt.Y(shorthand='artist_name:N',\n",
    "                                                     axis = alt.Axis(title=None)),\n",
    "                                            url= 'img',\n",
    "                                            text = alt.Text(shorthand=\"song_position\")\n",
    "                                           )\n",
    "\n",
    "caption = alt.Chart({'values':[{}]}).mark_text(align='left', font='Georgia', fontStyle='italic', fontSize=10)\\\n",
    ".encode(x=alt.value(330),y=alt.value(280),text=alt.value(['data: personal spotify data',\n",
    "                                                          'visualization by isaac arroyo (@unisaacarroyov)']))"
   ]
  },
  {
   "cell_type": "markdown",
   "metadata": {},
   "source": [
    "### Bars + images + text"
   ]
  },
  {
   "cell_type": "code",
   "execution_count": 8,
   "metadata": {},
   "outputs": [
    {
     "data": {
      "text/html": [
       "\n",
       "<div id=\"altair-viz-c9d8643f0549414e911ea1c33adf1090\"></div>\n",
       "<script type=\"text/javascript\">\n",
       "  (function(spec, embedOpt){\n",
       "    let outputDiv = document.currentScript.previousElementSibling;\n",
       "    if (outputDiv.id !== \"altair-viz-c9d8643f0549414e911ea1c33adf1090\") {\n",
       "      outputDiv = document.getElementById(\"altair-viz-c9d8643f0549414e911ea1c33adf1090\");\n",
       "    }\n",
       "    const paths = {\n",
       "      \"vega\": \"https://cdn.jsdelivr.net/npm//vega@5?noext\",\n",
       "      \"vega-lib\": \"https://cdn.jsdelivr.net/npm//vega-lib?noext\",\n",
       "      \"vega-lite\": \"https://cdn.jsdelivr.net/npm//vega-lite@4.8.1?noext\",\n",
       "      \"vega-embed\": \"https://cdn.jsdelivr.net/npm//vega-embed@6?noext\",\n",
       "    };\n",
       "\n",
       "    function loadScript(lib) {\n",
       "      return new Promise(function(resolve, reject) {\n",
       "        var s = document.createElement('script');\n",
       "        s.src = paths[lib];\n",
       "        s.async = true;\n",
       "        s.onload = () => resolve(paths[lib]);\n",
       "        s.onerror = () => reject(`Error loading script: ${paths[lib]}`);\n",
       "        document.getElementsByTagName(\"head\")[0].appendChild(s);\n",
       "      });\n",
       "    }\n",
       "\n",
       "    function showError(err) {\n",
       "      outputDiv.innerHTML = `<div class=\"error\" style=\"color:red;\">${err}</div>`;\n",
       "      throw err;\n",
       "    }\n",
       "\n",
       "    function displayChart(vegaEmbed) {\n",
       "      vegaEmbed(outputDiv, spec, embedOpt)\n",
       "        .catch(err => showError(`Javascript Error: ${err.message}<br>This usually means there's a typo in your chart specification. See the javascript console for the full traceback.`));\n",
       "    }\n",
       "\n",
       "    if(typeof define === \"function\" && define.amd) {\n",
       "      requirejs.config({paths});\n",
       "      require([\"vega-embed\"], displayChart, err => showError(`Error loading script: ${err.message}`));\n",
       "    } else if (typeof vegaEmbed === \"function\") {\n",
       "      displayChart(vegaEmbed);\n",
       "    } else {\n",
       "      loadScript(\"vega\")\n",
       "        .then(() => loadScript(\"vega-lite\"))\n",
       "        .then(() => loadScript(\"vega-embed\"))\n",
       "        .catch(showError)\n",
       "        .then(() => displayChart(vegaEmbed));\n",
       "    }\n",
       "  })({\"config\": {\"view\": {\"continuousWidth\": 400, \"continuousHeight\": 300}}, \"layer\": [{\"mark\": {\"type\": \"bar\", \"color\": \"#BD4C7B\", \"height\": 5}, \"encoding\": {\"text\": {\"type\": \"nominal\", \"field\": \"song_position\"}, \"url\": {\"type\": \"nominal\", \"field\": \"img\"}, \"x\": {\"type\": \"quantitative\", \"field\": \"song_name\"}, \"y\": {\"type\": \"nominal\", \"axis\": {\"title\": null}, \"field\": \"artist_name\"}}}, {\"mark\": {\"type\": \"image\", \"width\": 60}, \"encoding\": {\"text\": {\"type\": \"nominal\", \"field\": \"song_position\"}, \"url\": {\"type\": \"nominal\", \"field\": \"img\"}, \"x\": {\"type\": \"quantitative\", \"field\": \"song_name\"}, \"y\": {\"type\": \"nominal\", \"axis\": {\"title\": null}, \"field\": \"artist_name\"}}}, {\"mark\": {\"type\": \"text\", \"align\": \"left\", \"dx\": 40, \"fontWeight\": \"bold\", \"size\": 18}, \"encoding\": {\"text\": {\"type\": \"nominal\", \"field\": \"song_position\"}, \"url\": {\"type\": \"nominal\", \"field\": \"img\"}, \"x\": {\"type\": \"quantitative\", \"field\": \"song_name\"}, \"y\": {\"type\": \"nominal\", \"axis\": {\"title\": null}, \"field\": \"artist_name\"}}}], \"data\": {\"name\": \"data-a98db85134ba04ba171798f11a3ea84e\"}, \"$schema\": \"https://vega.github.io/schema/vega-lite/v4.8.1.json\", \"datasets\": {\"data-a98db85134ba04ba171798f11a3ea84e\": [{\"artist_name\": \"Alessia Cara\", \"song_name\": 17, \"song_position\": \"17 songs\", \"playlist_year\": 17, \"danceability\": 17, \"valence\": 17, \"speechiness\": 17, \"img\": \"https://raw.githubusercontent.com/isaacarroyov/30DayChartChallenge/main/2022/data_images/alessia_cara.png\"}, {\"artist_name\": \"Dua Lipa\", \"song_name\": 12, \"song_position\": \"12 songs\", \"playlist_year\": 12, \"danceability\": 12, \"valence\": 12, \"speechiness\": 12, \"img\": \"https://raw.githubusercontent.com/isaacarroyov/30DayChartChallenge/main/2022/data_images/dua_lipa.png\"}, {\"artist_name\": \"La Oreja de Van Gogh\", \"song_name\": 6, \"song_position\": \"6 songs\", \"playlist_year\": 6, \"danceability\": 6, \"valence\": 6, \"speechiness\": 6, \"img\": \"https://raw.githubusercontent.com/isaacarroyov/30DayChartChallenge/main/2022/data_images/oreja_van_gogh.jpg\"}, {\"artist_name\": \"5 Seconds of Summer\", \"song_name\": 5, \"song_position\": \"5 songs\", \"playlist_year\": 5, \"danceability\": 5, \"valence\": 5, \"speechiness\": 5, \"img\": \"https://raw.githubusercontent.com/isaacarroyov/30DayChartChallenge/main/2022/data_images/5sos.png\"}, {\"artist_name\": \"Residente/Calle 13\", \"song_name\": 5, \"song_position\": \"5 songs\", \"playlist_year\": 5, \"danceability\": 5, \"valence\": 5, \"speechiness\": 5, \"img\": \"https://raw.githubusercontent.com/isaacarroyov/30DayChartChallenge/main/2022/data_images/residente.jpg\"}]}}, {\"mode\": \"vega-lite\"});\n",
       "</script>"
      ],
      "text/plain": [
       "alt.LayerChart(...)"
      ]
     },
     "execution_count": 8,
     "metadata": {},
     "output_type": "execute_result"
    }
   ],
   "source": [
    "chart_marks = base.mark_bar(height=5, color='#BD4C7B') +\\\n",
    "              base.mark_image(width=60) +\\\n",
    "              base.mark_text(align='left', dx=40, size=18, fontWeight='bold')\n",
    "chart_marks"
   ]
  },
  {
   "cell_type": "markdown",
   "metadata": {},
   "source": [
    "### Final result"
   ]
  },
  {
   "cell_type": "code",
   "execution_count": 9,
   "metadata": {},
   "outputs": [
    {
     "data": {
      "text/html": [
       "\n",
       "<div id=\"altair-viz-a6a4d7d266474b689aefa563ced8a268\"></div>\n",
       "<script type=\"text/javascript\">\n",
       "  (function(spec, embedOpt){\n",
       "    let outputDiv = document.currentScript.previousElementSibling;\n",
       "    if (outputDiv.id !== \"altair-viz-a6a4d7d266474b689aefa563ced8a268\") {\n",
       "      outputDiv = document.getElementById(\"altair-viz-a6a4d7d266474b689aefa563ced8a268\");\n",
       "    }\n",
       "    const paths = {\n",
       "      \"vega\": \"https://cdn.jsdelivr.net/npm//vega@5?noext\",\n",
       "      \"vega-lib\": \"https://cdn.jsdelivr.net/npm//vega-lib?noext\",\n",
       "      \"vega-lite\": \"https://cdn.jsdelivr.net/npm//vega-lite@4.8.1?noext\",\n",
       "      \"vega-embed\": \"https://cdn.jsdelivr.net/npm//vega-embed@6?noext\",\n",
       "    };\n",
       "\n",
       "    function loadScript(lib) {\n",
       "      return new Promise(function(resolve, reject) {\n",
       "        var s = document.createElement('script');\n",
       "        s.src = paths[lib];\n",
       "        s.async = true;\n",
       "        s.onload = () => resolve(paths[lib]);\n",
       "        s.onerror = () => reject(`Error loading script: ${paths[lib]}`);\n",
       "        document.getElementsByTagName(\"head\")[0].appendChild(s);\n",
       "      });\n",
       "    }\n",
       "\n",
       "    function showError(err) {\n",
       "      outputDiv.innerHTML = `<div class=\"error\" style=\"color:red;\">${err}</div>`;\n",
       "      throw err;\n",
       "    }\n",
       "\n",
       "    function displayChart(vegaEmbed) {\n",
       "      vegaEmbed(outputDiv, spec, embedOpt)\n",
       "        .catch(err => showError(`Javascript Error: ${err.message}<br>This usually means there's a typo in your chart specification. See the javascript console for the full traceback.`));\n",
       "    }\n",
       "\n",
       "    if(typeof define === \"function\" && define.amd) {\n",
       "      requirejs.config({paths});\n",
       "      require([\"vega-embed\"], displayChart, err => showError(`Error loading script: ${err.message}`));\n",
       "    } else if (typeof vegaEmbed === \"function\") {\n",
       "      displayChart(vegaEmbed);\n",
       "    } else {\n",
       "      loadScript(\"vega\")\n",
       "        .then(() => loadScript(\"vega-lite\"))\n",
       "        .then(() => loadScript(\"vega-embed\"))\n",
       "        .catch(showError)\n",
       "        .then(() => displayChart(vegaEmbed));\n",
       "    }\n",
       "  })({\"config\": {\"view\": {\"continuousWidth\": 400, \"continuousHeight\": 300, \"stroke\": null}, \"axis\": {\"grid\": false}, \"axisX\": {\"domain\": false, \"labels\": false, \"ticks\": false, \"title\": null}, \"axisY\": {\"domain\": false, \"labelFontSize\": 16, \"labelFontWeight\": \"bold\", \"labelPadding\": 15, \"ticks\": false}, \"background\": \"white\", \"font\": \"Georgia\"}, \"layer\": [{\"mark\": {\"type\": \"bar\", \"color\": \"#BD4C7B\", \"height\": 5}, \"encoding\": {\"text\": {\"type\": \"nominal\", \"field\": \"song_position\"}, \"url\": {\"type\": \"nominal\", \"field\": \"img\"}, \"x\": {\"type\": \"quantitative\", \"field\": \"song_name\"}, \"y\": {\"type\": \"nominal\", \"axis\": {\"title\": null}, \"field\": \"artist_name\"}}}, {\"mark\": {\"type\": \"image\", \"width\": 60}, \"encoding\": {\"text\": {\"type\": \"nominal\", \"field\": \"song_position\"}, \"url\": {\"type\": \"nominal\", \"field\": \"img\"}, \"x\": {\"type\": \"quantitative\", \"field\": \"song_name\"}, \"y\": {\"type\": \"nominal\", \"axis\": {\"title\": null}, \"field\": \"artist_name\"}}}, {\"mark\": {\"type\": \"text\", \"align\": \"left\", \"dx\": 40, \"fontWeight\": \"bold\", \"size\": 18}, \"encoding\": {\"text\": {\"type\": \"nominal\", \"field\": \"song_position\"}, \"url\": {\"type\": \"nominal\", \"field\": \"img\"}, \"x\": {\"type\": \"quantitative\", \"field\": \"song_name\"}, \"y\": {\"type\": \"nominal\", \"axis\": {\"title\": null}, \"field\": \"artist_name\"}}}, {\"data\": {\"name\": \"data-a21cafb4c405e6997671a02e578b9b1e\"}, \"mark\": {\"type\": \"text\", \"align\": \"left\", \"font\": \"Georgia\", \"fontSize\": 10, \"fontStyle\": \"italic\"}, \"encoding\": {\"text\": {\"value\": [\"data: personal spotify data\", \"visualization by isaac arroyo (@unisaacarroyov)\"]}, \"x\": {\"value\": 330}, \"y\": {\"value\": 280}}}], \"data\": {\"name\": \"data-a98db85134ba04ba171798f11a3ea84e\"}, \"height\": 300, \"title\": {\"text\": [\"My top 5 artists during lockdown (2020)\"], \"anchor\": \"start\", \"color\": \"#BD4C7B\", \"fontSize\": 30, \"offset\": 20, \"subtitle\": [\"Music helped me ease the uncertainty, and these artist were my primary support\"], \"subtitleFontSize\": 20}, \"width\": 400, \"$schema\": \"https://vega.github.io/schema/vega-lite/v4.8.1.json\", \"datasets\": {\"data-a98db85134ba04ba171798f11a3ea84e\": [{\"artist_name\": \"Alessia Cara\", \"song_name\": 17, \"song_position\": \"17 songs\", \"playlist_year\": 17, \"danceability\": 17, \"valence\": 17, \"speechiness\": 17, \"img\": \"https://raw.githubusercontent.com/isaacarroyov/30DayChartChallenge/main/2022/data_images/alessia_cara.png\"}, {\"artist_name\": \"Dua Lipa\", \"song_name\": 12, \"song_position\": \"12 songs\", \"playlist_year\": 12, \"danceability\": 12, \"valence\": 12, \"speechiness\": 12, \"img\": \"https://raw.githubusercontent.com/isaacarroyov/30DayChartChallenge/main/2022/data_images/dua_lipa.png\"}, {\"artist_name\": \"La Oreja de Van Gogh\", \"song_name\": 6, \"song_position\": \"6 songs\", \"playlist_year\": 6, \"danceability\": 6, \"valence\": 6, \"speechiness\": 6, \"img\": \"https://raw.githubusercontent.com/isaacarroyov/30DayChartChallenge/main/2022/data_images/oreja_van_gogh.jpg\"}, {\"artist_name\": \"5 Seconds of Summer\", \"song_name\": 5, \"song_position\": \"5 songs\", \"playlist_year\": 5, \"danceability\": 5, \"valence\": 5, \"speechiness\": 5, \"img\": \"https://raw.githubusercontent.com/isaacarroyov/30DayChartChallenge/main/2022/data_images/5sos.png\"}, {\"artist_name\": \"Residente/Calle 13\", \"song_name\": 5, \"song_position\": \"5 songs\", \"playlist_year\": 5, \"danceability\": 5, \"valence\": 5, \"speechiness\": 5, \"img\": \"https://raw.githubusercontent.com/isaacarroyov/30DayChartChallenge/main/2022/data_images/residente.jpg\"}], \"data-a21cafb4c405e6997671a02e578b9b1e\": [{}]}}, {\"mode\": \"vega-lite\"});\n",
       "</script>"
      ],
      "text/plain": [
       "alt.LayerChart(...)"
      ]
     },
     "execution_count": 9,
     "metadata": {},
     "output_type": "execute_result"
    }
   ],
   "source": [
    "(chart_marks + caption)\\\n",
    ".properties(width=400, height=300,\n",
    "            title = alt.TitleParams(text=[\"My top 5 artists during lockdown (2020)\"],\n",
    "                                    anchor='start', offset=20,\n",
    "                                    subtitle= [\"Music helped me ease the uncertainty, and these artist were my primary support\"],\n",
    "                                    fontSize= 30, subtitleFontSize=20,\n",
    "                                    color = '#BD4C7B'\n",
    "                                   )\n",
    "           )\\\n",
    ".configure(font='Georgia', background='white')\\\n",
    ".configure_view(stroke=None)\\\n",
    ".configure_axisY(labelFontSize=16, labelFontWeight='bold', labelPadding=15,\n",
    "                 domain=False, ticks=False)\\\n",
    ".configure_axisX(domain=False, labels=False, ticks=False, title=None)\\\n",
    ".configure_axis(grid=False)"
   ]
  },
  {
   "cell_type": "code",
   "execution_count": null,
   "metadata": {},
   "outputs": [],
   "source": []
  }
 ],
 "metadata": {
  "interpreter": {
   "hash": "595b388863db442b8a6922bc0e5cf4d347718438098b9a4ab67132a41fefaa5d"
  },
  "kernelspec": {
   "display_name": "Python 3 (ipykernel)",
   "language": "python",
   "name": "python3"
  },
  "language_info": {
   "codemirror_mode": {
    "name": "ipython",
    "version": 3
   },
   "file_extension": ".py",
   "mimetype": "text/x-python",
   "name": "python",
   "nbconvert_exporter": "python",
   "pygments_lexer": "ipython3",
   "version": "3.8.12"
  }
 },
 "nbformat": 4,
 "nbformat_minor": 4
}
