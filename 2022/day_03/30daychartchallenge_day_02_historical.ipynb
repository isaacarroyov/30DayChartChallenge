{
 "cells": [
  {
   "cell_type": "markdown",
   "id": "555f1e67-598a-4559-b823-7169d75643ed",
   "metadata": {},
   "source": [
    "# Day 3: Historical"
   ]
  },
  {
   "cell_type": "markdown",
   "id": "8508b5c6-080b-4952-892b-1550be2785ca",
   "metadata": {},
   "source": [
    "## Load libraries"
   ]
  },
  {
   "cell_type": "code",
   "execution_count": 1,
   "id": "0823141f-585f-400f-8198-4fa98c2c8866",
   "metadata": {},
   "outputs": [],
   "source": [
    "import pandas as pd\n",
    "import numpy as np\n",
    "import matplotlib.pyplot as plt\n",
    "import seaborn as sns\n",
    "\n",
    "plt.rcParams['axes.facecolor']='white'\n",
    "plt.rcParams['savefig.facecolor']='white'\n",
    "plt.rc('font', family='Georgia')"
   ]
  },
  {
   "cell_type": "markdown",
   "id": "65b7fe48-bc53-4eb4-a06f-3b5350c2df94",
   "metadata": {},
   "source": [
    "## Load data"
   ]
  },
  {
   "cell_type": "code",
   "execution_count": 2,
   "id": "3fdf8b5c-8db2-43f7-b822-cbfd22542a91",
   "metadata": {},
   "outputs": [],
   "source": [
    "df_men = pd.read_csv(\"./../data/google_trends_5_years_international_mens_day.csv\")\n",
    "df_women = pd.read_csv(\"./../data/google_trends_5_years_international_womens_day.csv\")"
   ]
  },
  {
   "cell_type": "markdown",
   "id": "dc31a382-3180-44f0-a359-eb7abb640ba8",
   "metadata": {},
   "source": [
    "## Data manipulation"
   ]
  },
  {
   "cell_type": "code",
   "execution_count": 3,
   "id": "9767b93a-604c-4303-a92a-efdd781200b7",
   "metadata": {},
   "outputs": [],
   "source": [
    "df = pd.merge(left=df_men, right=df_women, on='Week')\n",
    "df = df.rename(columns={'International_Mens_Day_Mexico':'Int_Mens_Day_Popularity',\n",
    "                        'International_Womens_Day_Mexico':'Int_Womens_Day_Popularity'})"
   ]
  },
  {
   "cell_type": "code",
   "execution_count": 4,
   "id": "d8da230f-da48-4291-8cc7-698194d711a7",
   "metadata": {},
   "outputs": [],
   "source": [
    "df['Int_Mens_Day_Popularity'] = df['Int_Mens_Day_Popularity'].apply(lambda x: \"0.5\" if x == \"<1\" else x).astype(float)\n",
    "df['Int_Womens_Day_Popularity'] = df['Int_Womens_Day_Popularity'].apply(lambda x: \"0.5\" if x == \"<1\" else x).astype(float)"
   ]
  },
  {
   "cell_type": "code",
   "execution_count": 5,
   "id": "95d7330a-90c8-455e-b9b8-5116704f662d",
   "metadata": {},
   "outputs": [],
   "source": [
    "df['Week'] = pd.to_datetime(df['Week'])"
   ]
  },
  {
   "cell_type": "code",
   "execution_count": 6,
   "id": "aef1691d-d006-4fe0-9356-23b46cda03c1",
   "metadata": {},
   "outputs": [],
   "source": [
    "df = pd.concat([df,df['Week'].dt.isocalendar()], axis=1).drop(columns=\"Week\")"
   ]
  },
  {
   "cell_type": "code",
   "execution_count": 7,
   "id": "30426318-9a70-4dc4-8250-cefeb67528dc",
   "metadata": {},
   "outputs": [],
   "source": [
    "table_mens_day = df.pivot(index='week', columns='year', values='Int_Mens_Day_Popularity').loc[1:52]\n",
    "table_womens_day = df.pivot(index='week', columns='year', values='Int_Womens_Day_Popularity').loc[1:52]"
   ]
  },
  {
   "cell_type": "markdown",
   "id": "7c7f87c3-e84c-4f75-8313-ac57321ad83a",
   "metadata": {},
   "source": [
    "## Data Visualization: Base chart"
   ]
  },
  {
   "cell_type": "code",
   "execution_count": 22,
   "id": "927404ac-87cb-4a26-94f5-86c69b415f0a",
   "metadata": {},
   "outputs": [
    {
     "data": {
      "image/png": "[encoded data removed]",
      "text/plain": [
       "<Figure size 259.2x460.8 with 4 Axes>"
      ]
     },
     "metadata": {
      "needs_background": "light"
     },
     "output_type": "display_data"
    }
   ],
   "source": [
    "fig, (ax1, ax2) = plt.subplots(ncols=2, sharey=True,\n",
    "                               figsize=(1080/300,1920/300)\n",
    "                              )\n",
    "fig.subplots_adjust(wspace=0.6)\n",
    "\n",
    "sns.heatmap(data=table_womens_day,\n",
    "            vmin=0, vmax=100, center=50,\n",
    "            cmap= 'Oranges',\n",
    "            linecolor='white', linewidths=1,\n",
    "            cbar_kws = dict(orientation='horizontal', pad=0.02,\n",
    "                            location = 'top',\n",
    "                           ),\n",
    "            ax=ax1)\n",
    "\n",
    "\n",
    "sns.heatmap(data=table_mens_day,\n",
    "            vmin=0, vmax=100, center=50,\n",
    "            cmap= 'BuGn',\n",
    "            linecolor='white', linewidths=1,\n",
    "            cbar_kws = dict(orientation='horizontal', pad=0.02,\n",
    "                            location = 'top',\n",
    "                           ),\n",
    "            ax=ax2)\n",
    "\n",
    "\n",
    "cbar_womens = ax1.collections[0].colorbar\n",
    "cbar_womens.ax.tick_params(axis='both', length=0, labelsize=3, pad=5)\n",
    "\n",
    "cbar_mens = ax2.collections[0].colorbar\n",
    "cbar_mens.ax.tick_params(axis='both', length=0, labelsize=3, pad=5)\n",
    "\n",
    "\n",
    "\n",
    "ax1.set_xlabel('')\n",
    "ax1.set_ylabel('')\n",
    "ax1.tick_params(axis='x', length=0, rotation=0, labelsize=4)\n",
    "ax1.tick_params(axis='y', length=0, rotation=0, labelsize=4)\n",
    "ax1.set_yticks(np.arange(1,53))\n",
    "ax1.set_yticklabels(labels=[ 'week ' + str(i) for i in range(1,53) ])\n",
    "\n",
    "ax2.set_xlabel('')\n",
    "ax2.set_ylabel('')\n",
    "ax2.tick_params(axis='x', length=0, rotation=0, labelsize=4)\n",
    "ax2.tick_params(axis='y', length=0, rotation=0)\n",
    "\n",
    "list_labels = ax1.get_xticklabels() + ax1.get_yticklabels() + ax2.get_xticklabels() + cbar_womens.ax.get_xticklabels() + cbar_mens.ax.get_xticklabels()\n",
    "[ label.set_fontweight('bold') for label in list_labels ]\n",
    "\n",
    "plt.show()"
   ]
  },
  {
   "cell_type": "code",
   "execution_count": 24,
   "id": "a80b78f0-8fc7-468e-aa35-a2f691b62e87",
   "metadata": {},
   "outputs": [],
   "source": [
    "fig.savefig(\"./vector_day03_30daychartchallenge.svg\")"
   ]
  },
  {
   "cell_type": "markdown",
   "id": "c4a55c9b-729c-4038-848f-d06e59f8473a",
   "metadata": {},
   "source": [
    "## Final result (after Illustrator)"
   ]
  },
  {
   "cell_type": "code",
   "execution_count": null,
   "id": "70f14244-9f25-4efd-952b-143bcb4ff076",
   "metadata": {},
   "outputs": [],
   "source": []
  }
 ],
 "metadata": {
  "kernelspec": {
   "display_name": "Python 3 (ipykernel)",
   "language": "python",
   "name": "python3"
  },
  "language_info": {
   "codemirror_mode": {
    "name": "ipython",
    "version": 3
   },
   "file_extension": ".py",
   "mimetype": "text/x-python",
   "name": "python",
   "nbconvert_exporter": "python",
   "pygments_lexer": "ipython3",
   "version": "3.8.12"
  }
 },
 "nbformat": 4,
 "nbformat_minor": 5
}
